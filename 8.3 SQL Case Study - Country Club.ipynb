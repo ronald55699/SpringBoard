{
 "cells": [
  {
   "cell_type": "markdown",
   "metadata": {},
   "source": [
    "# 8.3 SQL Case Study - Country Club\n"
   ]
  },
  {
   "cell_type": "markdown",
   "metadata": {},
   "source": [
    "Q1 : Some of the facilities charge a fee to members, but some do not.\n",
    "Write a SQL query to produce a list of the names of the facilities that do."
   ]
  },
  {
   "cell_type": "markdown",
   "metadata": {},
   "source": [
    "SELECT name\n",
    "FROM Facilities\n",
    "WHERE membercost > 0"
   ]
  },
  {
   "cell_type": "markdown",
   "metadata": {},
   "source": [
    "Q2: How many facilities do not charge a fee to members?"
   ]
  },
  {
   "cell_type": "markdown",
   "metadata": {},
   "source": [
    "SELECT COUNT(*)\n",
    "FROM Facilities\n",
    "WHERE membercost = 0"
   ]
  },
  {
   "cell_type": "markdown",
   "metadata": {},
   "source": [
    "Q3: Write an SQL query to show a list of facilities that charge a fee to members,\n",
    "where the fee is less than 20% of the facility's monthly maintenance cost.\n",
    "Return the facid, facility name, member cost, and monthly maintenance of the\n",
    "facilities in question."
   ]
  },
  {
   "cell_type": "markdown",
   "metadata": {},
   "source": [
    "SELECT facid,name,membercost,monthlymaintenance\n",
    "FROM Facilities\n",
    "WHERE monthlymaintenance * 0.2 > membercost"
   ]
  },
  {
   "cell_type": "markdown",
   "metadata": {},
   "source": [
    "Q4: Write an SQL query to retrieve the details of facilities with ID 1 and 5.\n",
    "Try writing the query without using the OR operator."
   ]
  },
  {
   "cell_type": "markdown",
   "metadata": {},
   "source": [
    "SELECT *\n",
    "FROM Facilities\n",
    "WHERE facid =1\n",
    "UNION\n",
    "SELECT *\n",
    "FROM Facilities\n",
    "WHERE facid =5\n",
    "ORDER BY facid"
   ]
  },
  {
   "cell_type": "markdown",
   "metadata": {},
   "source": [
    "Q5: Produce a list of facilities, with each labelled as\n",
    "'cheap' or 'expensive', depending on if their monthly maintenance cost is\n",
    "more than $100. Return the name and monthly maintenance of the facilities\n",
    "in question."
   ]
  },
  {
   "cell_type": "markdown",
   "metadata": {},
   "source": [
    "SELECT name,monthlymaintenance, \n",
    "CASE WHEN monthlymaintenance > 100 THEN 'Expensive'\n",
    "ELSE 'Cheap' END AS Relative_Price\n",
    "FROM Facilities"
   ]
  },
  {
   "cell_type": "markdown",
   "metadata": {},
   "source": [
    "Q6: You'd like to get the first and last name of the last member(s)\n",
    "who signed up. Try not to use the LIMIT clause for your solution."
   ]
  },
  {
   "cell_type": "markdown",
   "metadata": {},
   "source": [
    "SELECT surname,firstname FROM Members WHERE joindate = (SELECT Max(joindate) FROM Members)"
   ]
  },
  {
   "cell_type": "raw",
   "metadata": {},
   "source": [
    "Q7: Produce a list of all members who have used a tennis court.\n",
    "Include in your output the name of the court, and the name of the member\n",
    "formatted as a single column. Ensure no duplicate data, and order by\n",
    "the member name."
   ]
  },
  {
   "cell_type": "markdown",
   "metadata": {},
   "source": [
    "SELECT CONCAT( m.firstname,' ',m.surname) as name, f.name as Name_of_court\n",
    "    FROM (\n",
    "    SELECT memid, facid\n",
    "    FROM Bookings\n",
    "    WHERE facid =0\n",
    "    OR facid =1\n",
    "    GROUP BY memid\n",
    "    ) AS l\n",
    "    LEFT JOIN Members AS m ON m.memid = l.memid\n",
    "    LEFT JOIN Facilities as f on f.facid = l.facid\n",
    "    ORDER BY name"
   ]
  },
  {
   "cell_type": "markdown",
   "metadata": {},
   "source": [
    "Q8: Produce a list of bookings on the day of 2012-09-14 which\n",
    "will cost the member (or guest) more than $30. Remember that guests have\n",
    "different costs to members (the listed costs are per half-hour 'slot'), and\n",
    "the guest user's ID is always 0. Include in your output the name of the\n",
    "facility, the name of the member formatted as a single column, and the cost.\n",
    "Order by descending cost, and do not use any subqueries. "
   ]
  },
  {
   "cell_type": "markdown",
   "metadata": {},
   "source": [
    "SELECT f.name, b.memid, b.starttime,\n",
    "case WHEN b.memid =0 THEN m.firstname\n",
    "ELSE CONCAT(m.firstname,' ',m.surname) END AS Name,\n",
    "CASE WHEN b.memid =0\n",
    "THEN f.guestcost\n",
    "ELSE f.membercost\n",
    "END AS Cost\n",
    "FROM Bookings AS b\n",
    "LEFT JOIN Facilities AS f ON b.facid = f.facid\n",
    "LEFT JOIN Members AS m ON m.memid = b.memid\n",
    "WHERE EXTRACT( YEAR\n",
    "FROM starttime ) =2012\n",
    "AND EXTRACT(\n",
    "MONTH FROM starttime ) =9\n",
    "AND EXTRACT(\n",
    "DAY FROM starttime ) =14 and case WHEN b.memid =0 THEN f.guestcost > 30 ELSE f.membercost>30 END"
   ]
  },
  {
   "cell_type": "markdown",
   "metadata": {},
   "source": [
    "Q9: This time, produce the same result as in Q8, but using a subquery."
   ]
  },
  {
   "cell_type": "markdown",
   "metadata": {},
   "source": []
  },
  {
   "cell_type": "markdown",
   "metadata": {},
   "source": [
    "Q10: Produce a list of facilities with a total revenue less than 1000.\n",
    "The output of facility name and total revenue, sorted by revenue. Remember\n",
    "that there's a different cost for guests and members!"
   ]
  },
  {
   "cell_type": "code",
   "execution_count": 11,
   "metadata": {},
   "outputs": [
    {
     "name": "stdout",
     "output_type": "stream",
     "text": [
      "(3, 90)\n",
      "(7, 115)\n",
      "(8, 265)\n",
      "(2, 604.5)\n"
     ]
    }
   ],
   "source": [
    "import sqlite3\n",
    "from sqlite3 import Error\n",
    "\n",
    " \n",
    "def create_connection(db_file):\n",
    "    \"\"\" create a database connection to the SQLite database\n",
    "        specified by the db_file\n",
    "    :param db_file: database file\n",
    "    :return: Connection object or None\n",
    "    \"\"\"\n",
    "    conn = None\n",
    "    try:\n",
    "        conn = sqlite3.connect(db_file)\n",
    "        \n",
    "    except Error as e:\n",
    "        print(e)\n",
    " \n",
    "    return conn\n",
    "\n",
    " \n",
    "def select_all_tasks(conn):\n",
    "    \"\"\"\n",
    "    Query all rows in the tasks table\n",
    "    :param conn: the Connection object\n",
    "    :return:\n",
    "    \"\"\"\n",
    "    cur = conn.cursor()\n",
    "    \n",
    "    query1 = \"\"\"\n",
    "SELECT  mc.facid,(f.membercost * mc.total + f.guestcost * gc.total) as Total_Revenue\n",
    "FROM (\n",
    "\n",
    "SELECT facid, COUNT( memid ) AS total\n",
    "FROM Bookings\n",
    "WHERE memid <>0\n",
    "GROUP BY facid\n",
    ") AS mc\n",
    "LEFT JOIN Facilities AS f ON f.facid = mc.facid\n",
    "LEFT JOIN (\n",
    "\n",
    "SELECT facid, COUNT( memid ) AS total\n",
    "FROM Bookings\n",
    "WHERE memid =0\n",
    "GROUP BY facid\n",
    ") AS gc ON gc.facid = mc.facid\n",
    "WHERE f.membercost * mc.total + f.guestcost * gc.total < 1000\n",
    "ORDER BY Total_Revenue\n",
    "        \"\"\"\n",
    "    cur.execute(query1)\n",
    " \n",
    "    rows = cur.fetchall()\n",
    " \n",
    "    for row in rows:\n",
    "        print(row)\n",
    "\n",
    "\n",
    "def main():\n",
    "    database = \"sqlite_db_pythonsqlite.db\"\n",
    " \n",
    "    # create a database connection\n",
    "    conn = create_connection(database)\n",
    "    with conn: \n",
    "        \n",
    "        select_all_tasks(conn)\n",
    " \n",
    " \n",
    "if __name__ == '__main__':\n",
    "    main()"
   ]
  },
  {
   "cell_type": "markdown",
   "metadata": {},
   "source": [
    "Q11: Produce a report of members and who recommended them in alphabetic surname,firstname order"
   ]
  },
  {
   "cell_type": "code",
   "execution_count": 26,
   "metadata": {},
   "outputs": [
    {
     "name": "stdout",
     "output_type": "stream",
     "text": [
      "('Anna Mackenzie', 'Darren Smith')\n",
      "('Anne Baker', 'Ponder Stibbons')\n",
      "('Burton Tracy', None)\n",
      "('Charles Owen', 'Darren Smith')\n",
      "('Darren Smith', None)\n",
      "('Darren Smith', None)\n",
      "('David Farrell', None)\n",
      "('David Jones', 'Janice Joplette')\n",
      "('David Pinker', 'Jemima Farrell')\n",
      "('Douglas Jones', 'David Jones')\n",
      "('Erica Crumpet', 'Tracy Smith')\n",
      "('Florence Bader', 'Ponder Stibbons')\n",
      "('Gerald Butters', 'Darren Smith')\n",
      "('Guest', None)\n",
      "('Henrietta Rumney', 'Matthew Genting')\n",
      "('Henry Worthington-Smyth', 'Tracy Smith')\n",
      "('Hyacinth Tupperware', None)\n",
      "('Jack Smith', 'Darren Smith')\n",
      "('Janice Joplette', 'Darren Smith')\n",
      "('Jemima Farrell', None)\n",
      "('Joan Coplin', 'Timothy Baker')\n",
      "('John Hunt', 'Millicent Purview')\n",
      "('Matthew Genting', 'Gerald Butters')\n",
      "('Millicent Purview', 'Tracy Smith')\n",
      "('Nancy Dare', 'Janice Joplette')\n",
      "('Ponder Stibbons', 'Burton Tracy')\n",
      "('Ramnaresh Sarwin', 'Florence Bader')\n",
      "('Tim Boothe', 'Tim Rownam')\n",
      "('Tim Rownam', None)\n",
      "('Timothy Baker', 'Jemima Farrell')\n",
      "('Tracy Smith', None)\n"
     ]
    }
   ],
   "source": [
    "def create_connection(db_file):\n",
    "    \"\"\" create a database connection to the SQLite database\n",
    "        specified by the db_file\n",
    "    :param db_file: database file\n",
    "    :return: Connection object or None\n",
    "    \"\"\"\n",
    "    conn = None\n",
    "    try:\n",
    "        conn = sqlite3.connect(db_file)\n",
    "        \n",
    "    except Error as e:\n",
    "        print(e)\n",
    " \n",
    "    return conn\n",
    "\n",
    " \n",
    "def select_all_tasks(conn):\n",
    "    \"\"\"\n",
    "    Query all rows in the tasks table\n",
    "    :param conn: the Connection object\n",
    "    :return:\n",
    "    \"\"\"\n",
    "    cur = conn.cursor()\n",
    "    \n",
    "    query1 = \"\"\"\n",
    "SELECT a.Member, b.Member AS Recommendation\n",
    "FROM (\n",
    "\n",
    "SELECT memid,\n",
    "CASE WHEN memid =0\n",
    "THEN \"Guest\"\n",
    "ELSE firstname||' '||surname\n",
    "END AS Member, recommendedby\n",
    "FROM Members\n",
    ") AS a\n",
    "LEFT JOIN (\n",
    "\n",
    "SELECT memid,\n",
    "CASE WHEN memid IS NULL\n",
    "THEN \"No Recommendation\"\n",
    "ELSE firstname||' '||surname\n",
    "END AS Member, recommendedby\n",
    "FROM Members\n",
    ") AS b ON b.memid = a.recommendedby\n",
    "ORDER BY a.Member\n",
    "\"\"\"\n",
    "    cur.execute(query1)\n",
    " \n",
    "    rows = cur.fetchall()\n",
    " \n",
    "    for row in rows:\n",
    "        print(row)\n",
    "\n",
    "\n",
    "def main():\n",
    "    database = \"sqlite_db_pythonsqlite.db\"\n",
    " \n",
    "    # create a database connection\n",
    "    conn = create_connection(database)\n",
    "    with conn: \n",
    "        \n",
    "        select_all_tasks(conn)\n",
    " \n",
    " \n",
    "if __name__ == '__main__':\n",
    "    main()"
   ]
  },
  {
   "cell_type": "markdown",
   "metadata": {},
   "source": [
    "Q12: Find the facilities with their usage by member, but not guests"
   ]
  },
  {
   "cell_type": "code",
   "execution_count": 28,
   "metadata": {},
   "outputs": [
    {
     "name": "stdout",
     "output_type": "stream",
     "text": [
      "(0, 308)\n",
      "(1, 276)\n",
      "(2, 344)\n",
      "(3, 385)\n",
      "(4, 421)\n",
      "(5, 27)\n",
      "(6, 195)\n",
      "(7, 421)\n",
      "(8, 783)\n"
     ]
    }
   ],
   "source": [
    "def create_connection(db_file):\n",
    "    \"\"\" create a database connection to the SQLite database\n",
    "        specified by the db_file\n",
    "    :param db_file: database file\n",
    "    :return: Connection object or None\n",
    "    \"\"\"\n",
    "    conn = None\n",
    "    try:\n",
    "        conn = sqlite3.connect(db_file)\n",
    "        \n",
    "    except Error as e:\n",
    "        print(e)\n",
    " \n",
    "    return conn\n",
    "\n",
    " \n",
    "def select_all_tasks(conn):\n",
    "    \"\"\"\n",
    "    Query all rows in the tasks table\n",
    "    :param conn: the Connection object\n",
    "    :return:\n",
    "    \"\"\"\n",
    "    cur = conn.cursor()\n",
    "    \n",
    "    query1 = \"\"\"\n",
    "SELECT facid, COUNT( memid ) AS Member_usage\n",
    "FROM Bookings\n",
    "WHERE memid <>0\n",
    "GROUP BY facid\n",
    "\"\"\"\n",
    "    cur.execute(query1)\n",
    " \n",
    "    rows = cur.fetchall()\n",
    " \n",
    "    for row in rows:\n",
    "        print(row)\n",
    "\n",
    "\n",
    "def main():\n",
    "    database = \"sqlite_db_pythonsqlite.db\"\n",
    " \n",
    "    # create a database connection\n",
    "    conn = create_connection(database)\n",
    "    with conn: \n",
    "        \n",
    "        select_all_tasks(conn)\n",
    " \n",
    " \n",
    "if __name__ == '__main__':\n",
    "    main()"
   ]
  },
  {
   "cell_type": "markdown",
   "metadata": {},
   "source": [
    "Q13: Find the facilities usage by month, but not guests"
   ]
  },
  {
   "cell_type": "code",
   "execution_count": 31,
   "metadata": {},
   "outputs": [
    {
     "name": "stdout",
     "output_type": "stream",
     "text": [
      "(0, '07', 65)\n",
      "(0, '08', 111)\n",
      "(0, '09', 132)\n",
      "(1, '07', 41)\n",
      "(1, '08', 109)\n",
      "(1, '09', 126)\n",
      "(2, '07', 51)\n",
      "(2, '08', 132)\n",
      "(2, '09', 161)\n",
      "(3, '07', 48)\n",
      "(3, '08', 143)\n",
      "(3, '09', 194)\n",
      "(4, '07', 77)\n",
      "(4, '08', 153)\n",
      "(4, '09', 191)\n",
      "(5, '07', 4)\n",
      "(5, '08', 9)\n",
      "(5, '09', 14)\n",
      "(6, '07', 23)\n",
      "(6, '08', 85)\n",
      "(6, '09', 87)\n",
      "(7, '07', 68)\n",
      "(7, '08', 154)\n",
      "(7, '09', 199)\n",
      "(8, '07', 103)\n",
      "(8, '08', 272)\n",
      "(8, '09', 408)\n"
     ]
    }
   ],
   "source": [
    "def create_connection(db_file):\n",
    "    \"\"\" create a database connection to the SQLite database\n",
    "        specified by the db_file\n",
    "    :param db_file: database file\n",
    "    :return: Connection object or None\n",
    "    \"\"\"\n",
    "    conn = None\n",
    "    try:\n",
    "        conn = sqlite3.connect(db_file)\n",
    "        \n",
    "    except Error as e:\n",
    "        print(e)\n",
    " \n",
    "    return conn\n",
    "\n",
    " \n",
    "def select_all_tasks(conn):\n",
    "    \"\"\"\n",
    "    Query all rows in the tasks table\n",
    "    :param conn: the Connection object\n",
    "    :return:\n",
    "    \"\"\"\n",
    "    cur = conn.cursor()\n",
    "    \n",
    "    query1 = \"\"\"\n",
    "SELECT facid, strftime('%m', starttime) AS\n",
    "MONTH , COUNT( memid ) AS Member_usage\n",
    "FROM Bookings\n",
    "WHERE memid <>0\n",
    "GROUP BY facid, strftime('%m', starttime)\n",
    "\"\"\"\n",
    "    cur.execute(query1)\n",
    " \n",
    "    rows = cur.fetchall()\n",
    " \n",
    "    for row in rows:\n",
    "        print(row)\n",
    "\n",
    "\n",
    "def main():\n",
    "    database = \"sqlite_db_pythonsqlite.db\"\n",
    " \n",
    "    # create a database connection\n",
    "    conn = create_connection(database)\n",
    "    with conn: \n",
    "        \n",
    "        select_all_tasks(conn)\n",
    " \n",
    " \n",
    "if __name__ == '__main__':\n",
    "    main()"
   ]
  },
  {
   "cell_type": "code",
   "execution_count": null,
   "metadata": {},
   "outputs": [],
   "source": []
  }
 ],
 "metadata": {
  "kernelspec": {
   "display_name": "Python 3",
   "language": "python",
   "name": "python3"
  },
  "language_info": {
   "codemirror_mode": {
    "name": "ipython",
    "version": 3
   },
   "file_extension": ".py",
   "mimetype": "text/x-python",
   "name": "python",
   "nbconvert_exporter": "python",
   "pygments_lexer": "ipython3",
   "version": "3.8.3"
  }
 },
 "nbformat": 4,
 "nbformat_minor": 4
}
